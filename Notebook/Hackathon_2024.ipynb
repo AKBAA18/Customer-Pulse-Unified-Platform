{
 "cells": [
  {
   "cell_type": "code",
   "execution_count": 0,
   "metadata": {
    "application/vnd.databricks.v1+cell": {
     "cellMetadata": {
      "byteLimit": 2048000,
      "rowLimit": 10000
     },
     "inputWidgets": {},
     "nuid": "df928b5f-aad7-4d1f-a0b2-7ef571a6cd9c",
     "showTitle": false,
     "title": ""
    }
   },
   "outputs": [],
   "source": [
    "dbutils.fs.mkdirs(\"/FileStore/Hackathon\");"
   ]
  },
  {
   "cell_type": "code",
   "execution_count": 0,
   "metadata": {
    "application/vnd.databricks.v1+cell": {
     "cellMetadata": {
      "byteLimit": 2048000,
      "rowLimit": 10000
     },
     "inputWidgets": {},
     "nuid": "d7211e3f-860e-4807-ade0-4e663db7ec1f",
     "showTitle": false,
     "title": ""
    }
   },
   "outputs": [],
   "source": [
    "from pyspark.sql import * \n",
    "spark=SparkSession.builder.master(\"local[2]\").appName(\"Hackathon\").enableHiveSupport().getOrCreate()\n",
    "sc=spark.sparkContext"
   ]
  },
  {
   "cell_type": "code",
   "execution_count": 0,
   "metadata": {
    "application/vnd.databricks.v1+cell": {
     "cellMetadata": {
      "byteLimit": 2048000,
      "rowLimit": 10000
     },
     "inputWidgets": {},
     "nuid": "9b237c61-c53c-4553-84e0-10ef5dd9f146",
     "showTitle": false,
     "title": ""
    }
   },
   "outputs": [],
   "source": [
    "from pyspark.sql.types import * \n",
    "custom_schema=StructType ([StructField(\"IssuerId\",IntegerType(),True) , StructField(\"IssuerId2\",IntegerType(),True) , StructField(\"BusinessDate\",DateType(),True) , StructField(\"StateCode\",StringType(),True) , StructField(\"SourceName\",StringType(),True) , StructField(\"NetworkName\",StringType(),True) , StructField(\"NetworkURL\",StringType(),True) , StructField(\"custnum\",StringType(),True) , StructField(\"MarketCoverage\",StringType(),True) , StructField(\"DentalOnlyPlan\",StringType(),True)])\n",
    "data_frame_1=spark.read.csv(path=\"dbfs:/FileStore/Hackathon/insuranceinfo1.csv\" , header=True , schema=custom_schema )"
   ]
  },
  {
   "cell_type": "code",
   "execution_count": 0,
   "metadata": {
    "application/vnd.databricks.v1+cell": {
     "cellMetadata": {
      "byteLimit": 2048000,
      "rowLimit": 10000
     },
     "inputWidgets": {},
     "nuid": "ede6e6ea-b7d0-4733-b953-6895284dcf1a",
     "showTitle": false,
     "title": ""
    }
   },
   "outputs": [],
   "source": [
    "custom_schema=StructType ([StructField(\"IssuerId\",IntegerType(),True) , StructField(\"IssuerId2\",IntegerType(),True) , StructField(\"BusinessDate\",DateType(),True) , StructField(\"StateCode\",StringType(),True) , StructField(\"SourceName\",StringType(),True) , StructField(\"NetworkName\",StringType(),True) , StructField(\"NetworkURL\",StringType(),True) , StructField(\"custnum\",StringType(),True) , StructField(\"MarketCoverage\",StringType(),True) , StructField(\"DentalOnlyPlan\",StringType(),True)])\n",
    "data_frame_2=spark.read.csv(path=\"dbfs:/FileStore/Hackathon/insuranceinfo2.csv\" , header=True , schema=custom_schema )"
   ]
  },
  {
   "cell_type": "code",
   "execution_count": 0,
   "metadata": {
    "application/vnd.databricks.v1+cell": {
     "cellMetadata": {},
     "inputWidgets": {},
     "nuid": "e0525f17-5b60-44ce-a0c0-5acebf6545ac",
     "showTitle": false,
     "title": ""
    }
   },
   "outputs": [],
   "source": [
    "custom_schema=StructType ([StructField(\"IssuerId\",IntegerType(),True) , StructField(\"IssuerId2\",IntegerType(),True) , StructField(\"BusinessDate\",DateType(),True) , StructField(\"StateCode\",StringType(),True) , StructField(\"SourceName\",StringType(),True) , StructField(\"NetworkName\",StringType(),True) , StructField(\"NetworkURL\",StringType(),True) , StructField(\"custnum\",StringType(),True) , StructField(\"MarketCoverage\",StringType(),True) , StructField(\"DentalOnlyPlan\",StringType(),True) , StructField(\"RejectRows\",StringType(),True) ])\n",
    "data_frame_2=spark.read.csv(path=\"dbfs:/FileStore/Hackathon/insuranceinfo2.csv\" , header=True , schema=custom_schema , columnMis )"
   ]
  }
 ],
 "metadata": {
  "application/vnd.databricks.v1+notebook": {
   "dashboards": [],
   "environmentMetadata": null,
   "language": "python",
   "notebookMetadata": {
    "pythonIndentUnit": 4
   },
   "notebookName": "Hackathon_2024",
   "widgets": {}
  }
 },
 "nbformat": 4,
 "nbformat_minor": 0
}
